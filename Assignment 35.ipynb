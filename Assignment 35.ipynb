{
 "cells": [
  {
   "cell_type": "markdown",
   "id": "ed546038-7930-449c-81bd-0aa6f9b1e4bb",
   "metadata": {},
   "source": [
    "## Q1. Calculate the 95% confidence interval for a sample of data with a mean of 50 and a standard deviation of 5 using Python. Interpret the results."
   ]
  },
  {
   "cell_type": "code",
   "execution_count": 1,
   "id": "95ad0e97-7392-4044-a0a3-69f485854d1f",
   "metadata": {},
   "outputs": [],
   "source": [
    "import scipy.stats as stat"
   ]
  },
  {
   "cell_type": "code",
   "execution_count": 2,
   "id": "cba8b3f4-4185-4143-b58c-5584f1b80438",
   "metadata": {},
   "outputs": [
    {
     "name": "stderr",
     "output_type": "stream",
     "text": [
      "/tmp/ipykernel_2723/2392370409.py:1: DeprecationWarning: Use of keyword argument `alpha` for method `interval` is deprecated. Use first positional argument or keyword argument `confidence` instead.\n",
      "  stat.t.interval(alpha=0.95,df=25,loc=50,scale=5)\n"
     ]
    },
    {
     "data": {
      "text/plain": [
       "(39.70230723623353, 60.29769276376647)"
      ]
     },
     "execution_count": 2,
     "metadata": {},
     "output_type": "execute_result"
    }
   ],
   "source": [
    "stat.t.interval(alpha=0.95,df=25,loc=50,scale=5)"
   ]
  },
  {
   "cell_type": "markdown",
   "id": "e0eb38b7-d557-4be0-b5fd-7f82dbdab479",
   "metadata": {},
   "source": [
    "## Q2. Conduct a chi-square goodness of fit test to determine if the distribution of colors of M&Ms in a bag matches the expected distribution of 20% blue, 20% orange, 20% green, 10% yellow, 10% red, and 20% brown. Use Python to perform the test with a significance level of 0.05."
   ]
  },
  {
   "cell_type": "code",
   "execution_count": 3,
   "id": "635dacd1-11e4-452c-907a-f26b9f2439d8",
   "metadata": {},
   "outputs": [],
   "source": [
    "import scipy.stats as stat"
   ]
  },
  {
   "cell_type": "code",
   "execution_count": 4,
   "id": "f3ff81fb-b4aa-41c5-8911-bd94297f1d99",
   "metadata": {},
   "outputs": [],
   "source": [
    "## No. of particular color blue,orange,green,yellow,red,brown\n",
    "Expected_data=[20,20,20,10,10,20]"
   ]
  },
  {
   "cell_type": "code",
   "execution_count": 8,
   "id": "fe7caaea-91ae-4bdd-ab35-6087eacfc265",
   "metadata": {},
   "outputs": [],
   "source": [
    "## Consider observed data as\n",
    "Observed_data=[25,21,15,15,8,16]"
   ]
  },
  {
   "cell_type": "code",
   "execution_count": 9,
   "id": "69d59a9d-2ce4-4eeb-be1a-7700b43f2295",
   "metadata": {},
   "outputs": [],
   "source": [
    "chisquare_test_statistics,p_value=stat.chisquare(Observed_data,Expected_data)"
   ]
  },
  {
   "cell_type": "code",
   "execution_count": 10,
   "id": "35a1fc37-1543-46fe-b164-a37a82c3af47",
   "metadata": {},
   "outputs": [
    {
     "name": "stdout",
     "output_type": "stream",
     "text": [
      "6.25\n",
      "0.282647296594067\n"
     ]
    }
   ],
   "source": [
    "print(chisquare_test_statistics)\n",
    "print(p_value)"
   ]
  },
  {
   "cell_type": "code",
   "execution_count": 11,
   "id": "3a99ab20-1e02-46f7-853e-350255cafdcb",
   "metadata": {},
   "outputs": [],
   "source": [
    "significance=0.05\n",
    "dof=len(Observed_data)-1\n",
    "critical_value=stat.chi2.ppf(1-significance,dof)"
   ]
  },
  {
   "cell_type": "code",
   "execution_count": 12,
   "id": "07521cfe-a2ed-4d2f-b52a-0b67d4845e3e",
   "metadata": {},
   "outputs": [
    {
     "data": {
      "text/plain": [
       "11.070497693516351"
      ]
     },
     "execution_count": 12,
     "metadata": {},
     "output_type": "execute_result"
    }
   ],
   "source": [
    "critical_value"
   ]
  },
  {
   "cell_type": "code",
   "execution_count": 13,
   "id": "5b483131-2aef-46bc-a4a8-f738817bd1aa",
   "metadata": {},
   "outputs": [
    {
     "name": "stdout",
     "output_type": "stream",
     "text": [
      "We fail to reject the null hypothesis\n"
     ]
    }
   ],
   "source": [
    "if chisquare_test_statistics > critical_value:\n",
    "    print(\"We reject the null hypothesis\")\n",
    "else:\n",
    "    print(\"We fail to reject the null hypothesis\")"
   ]
  },
  {
   "cell_type": "markdown",
   "id": "4e3d6fc4-e412-4847-a7b2-db4411e28c92",
   "metadata": {},
   "source": [
    "## Q3. Use Python to calculate the chi-square statistic and p-value for a contingency table with the following data:"
   ]
  },
  {
   "cell_type": "code",
   "execution_count": null,
   "id": "7eff691c-3e00-4ce7-8242-ea8bd1e2b33a",
   "metadata": {},
   "outputs": [],
   "source": [
    "'''       Group A   Group B\n",
    "\n",
    "Outcome 1    20      15\n",
    "Outcome 2    10      25\n",
    "Outcome 3    15      20\n",
    "\n",
    "Interpret the results of the test.'''"
   ]
  },
  {
   "cell_type": "code",
   "execution_count": null,
   "id": "6feac40e-c71e-41b3-91cb-9fd9ead6a768",
   "metadata": {},
   "outputs": [],
   "source": [
    "### Expected table be:\n",
    "## (row_total*column_total)/table_total\n",
    "'''        Group A   Group B\n",
    "\n",
    "Outcome 1    15        20\n",
    "Outcome 2    15        20\n",
    "Outcome 3    15        20\n",
    "'''"
   ]
  },
  {
   "cell_type": "code",
   "execution_count": 16,
   "id": "499878f4-98a5-4b6d-8e2f-1ce7c6fb97ee",
   "metadata": {},
   "outputs": [],
   "source": [
    "## So,\n",
    "Observed_data=[20,10,15,15,25,20]\n",
    "Expected_data=[15,15,15,20,20,20]"
   ]
  },
  {
   "cell_type": "code",
   "execution_count": 17,
   "id": "20483413-fa33-4935-a346-984689cf9040",
   "metadata": {},
   "outputs": [],
   "source": [
    "chisquare_test_statistics,p_value=stat.chisquare(Observed_data,Expected_data)"
   ]
  },
  {
   "cell_type": "code",
   "execution_count": 18,
   "id": "5ae24ddb-3263-42de-8fb0-59c2b6ea7310",
   "metadata": {},
   "outputs": [
    {
     "name": "stdout",
     "output_type": "stream",
     "text": [
      "5.833333333333334\n",
      "0.32277564078959387\n"
     ]
    }
   ],
   "source": [
    "print(chisquare_test_statistics)\n",
    "print(p_value)"
   ]
  },
  {
   "cell_type": "code",
   "execution_count": 20,
   "id": "f81bf904-c94c-48ef-be3e-c76d15a8d3bd",
   "metadata": {},
   "outputs": [],
   "source": [
    "significance=0.05\n",
    "dof=(3-1)*(2-1)\n",
    "critical_value=stat.chi2.ppf(1-significance,dof)"
   ]
  },
  {
   "cell_type": "code",
   "execution_count": 21,
   "id": "3559db43-b9a5-480d-ba8f-ff9ab7f8c1b5",
   "metadata": {},
   "outputs": [
    {
     "data": {
      "text/plain": [
       "5.991464547107979"
      ]
     },
     "execution_count": 21,
     "metadata": {},
     "output_type": "execute_result"
    }
   ],
   "source": [
    "critical_value"
   ]
  },
  {
   "cell_type": "code",
   "execution_count": 22,
   "id": "704e2de8-2976-420f-a6e3-b0281c89b21a",
   "metadata": {},
   "outputs": [
    {
     "name": "stdout",
     "output_type": "stream",
     "text": [
      "We fail to reject the null hypothesis\n"
     ]
    }
   ],
   "source": [
    "if chisquare_test_statistics > critical_value:\n",
    "    print(\"We reject the null hypothesis\")\n",
    "else:\n",
    "    print(\"We fail to reject the null hypothesis\")"
   ]
  },
  {
   "cell_type": "markdown",
   "id": "93c4e07f-9f25-419f-99bc-9321dde64fa5",
   "metadata": {},
   "source": [
    "## Q4. A study of the prevalence of smoking in a population of 500 individuals found that 60 individuals smoked. Use Python to calculate the 95% confidence interval for the true proportion of individuals in the population who smoke."
   ]
  },
  {
   "cell_type": "code",
   "execution_count": 26,
   "id": "5b9e0031-eaa1-45cb-80ff-66bc2f7da6ac",
   "metadata": {},
   "outputs": [],
   "source": [
    "from statsmodels.stats.proportion import proportion_confint"
   ]
  },
  {
   "cell_type": "code",
   "execution_count": 27,
   "id": "7ef058b1-86fb-4911-84eb-9741aa3372ee",
   "metadata": {},
   "outputs": [
    {
     "data": {
      "text/plain": [
       "(0.09151638887130706, 0.14848361112869293)"
      ]
     },
     "execution_count": 27,
     "metadata": {},
     "output_type": "execute_result"
    }
   ],
   "source": [
    "proportion_confint(count=60, nobs=500, alpha=0.05, method='normal')"
   ]
  },
  {
   "cell_type": "markdown",
   "id": "91679f94-18dd-46ea-843e-6c15c7a52131",
   "metadata": {},
   "source": [
    "## Q5. Calculate the 90% confidence interval for a sample of data with a mean of 75 and a standard deviation of 12 using Python. Interpret the results."
   ]
  },
  {
   "cell_type": "code",
   "execution_count": 28,
   "id": "a5209616-52d4-49fc-b155-8927747cfd75",
   "metadata": {},
   "outputs": [
    {
     "name": "stderr",
     "output_type": "stream",
     "text": [
      "/tmp/ipykernel_2723/1392905082.py:1: DeprecationWarning: Use of keyword argument `alpha` for method `interval` is deprecated. Use first positional argument or keyword argument `confidence` instead.\n",
      "  stat.t.interval(alpha=0.90,df=25,loc=75,scale=12)\n"
     ]
    },
    {
     "data": {
      "text/plain": [
       "(54.502310864977204, 95.49768913502278)"
      ]
     },
     "execution_count": 28,
     "metadata": {},
     "output_type": "execute_result"
    }
   ],
   "source": [
    "stat.t.interval(alpha=0.90,df=25,loc=75,scale=12)"
   ]
  },
  {
   "cell_type": "markdown",
   "id": "78b04221-2c3b-4527-bca4-a3188e708bd9",
   "metadata": {},
   "source": [
    "## Q6. Use Python to plot the chi-square distribution with 10 degrees of freedom. Label the axes and shade the area corresponding to a chi-square statistic of 15. "
   ]
  },
  {
   "cell_type": "code",
   "execution_count": 31,
   "id": "b2e78707-9ab0-4fa7-82b1-2df910d44efb",
   "metadata": {},
   "outputs": [],
   "source": [
    "import numpy as np\n",
    "import matplotlib.pyplot as plt"
   ]
  },
  {
   "cell_type": "code",
   "execution_count": 35,
   "id": "bc97f74c-b608-4c9b-b9e5-adb58b306987",
   "metadata": {},
   "outputs": [
    {
     "data": {
      "text/plain": [
       "Text(0, 0.5, 'This is y-axis')"
      ]
     },
     "execution_count": 35,
     "metadata": {},
     "output_type": "execute_result"
    },
    {
     "data": {
      "image/png": "[encoded data removed]",
      "text/plain": [
       "<Figure size 640x480 with 1 Axes>"
      ]
     },
     "metadata": {},
     "output_type": "display_data"
    }
   ],
   "source": [
    "x = np.arange(0, 20, 0.001)\n",
    "\n",
    "plt.plot(x, stat.chi2.pdf(x, df=10))\n",
    "plt.xlabel('This is x-axis')\n",
    "plt.ylabel('This is y-axis')"
   ]
  },
  {
   "cell_type": "markdown",
   "id": "59018a9e-5c9b-4916-80b3-c49f399006eb",
   "metadata": {},
   "source": [
    "## Q7. A random sample of 1000 people was asked if they preferred Coke or Pepsi. Of the sample, 520 preferred Coke. Calculate a 99% confidence interval for the true proportion of people in the population who prefer Coke."
   ]
  },
  {
   "cell_type": "code",
   "execution_count": 36,
   "id": "0dd0b0cd-5b65-4cf2-958c-03229b81c728",
   "metadata": {},
   "outputs": [],
   "source": [
    "from statsmodels.stats.proportion import proportion_confint"
   ]
  },
  {
   "cell_type": "code",
   "execution_count": 38,
   "id": "b5d13080-5412-4efb-9d8a-31995aa04774",
   "metadata": {},
   "outputs": [
    {
     "data": {
      "text/plain": [
       "(0.4793051576779699, 0.5606948423220302)"
      ]
     },
     "execution_count": 38,
     "metadata": {},
     "output_type": "execute_result"
    }
   ],
   "source": [
    "proportion_confint(count=520, nobs=1000, alpha=0.01, method='normal')"
   ]
  },
  {
   "cell_type": "markdown",
   "id": "f66d7247-4662-4a24-849f-26de5a70fbbe",
   "metadata": {},
   "source": [
    "## Q8. A researcher hypothesizes that a coin is biased towards tails. They flip the coin 100 times and observe 45 tails. Conduct a chi-square goodness of fit test to determine if the observed frequencies match the expected frequencies of a fair coin. Use a significance level of 0.05."
   ]
  },
  {
   "cell_type": "code",
   "execution_count": 40,
   "id": "b266b81f-7a8b-47ea-b3cc-03640bea79e3",
   "metadata": {},
   "outputs": [],
   "source": [
    "## Here observed value of no. of tails is 45 and no. of heads is 55"
   ]
  },
  {
   "cell_type": "code",
   "execution_count": 41,
   "id": "305d835a-5e53-4a5a-b4af-88297f145287",
   "metadata": {},
   "outputs": [],
   "source": [
    "## Since expectation was that the coin is biased towards tails\n",
    "## so, cosider expected value pf no. of tails is 65 and no. of heads is 35."
   ]
  },
  {
   "cell_type": "code",
   "execution_count": 47,
   "id": "a10eb2a7-f6e9-4b7d-9443-ea2fc7febfcb",
   "metadata": {},
   "outputs": [],
   "source": [
    "Observed_data=[45,55]\n",
    "Expected_data=[65,35]"
   ]
  },
  {
   "cell_type": "code",
   "execution_count": 48,
   "id": "92ebc5b7-f29f-4a4a-90c5-86cdf712dc99",
   "metadata": {},
   "outputs": [],
   "source": [
    "chisquare_test_statistics,p_value=stat.chisquare(Observed_data,Expected_data)"
   ]
  },
  {
   "cell_type": "code",
   "execution_count": 49,
   "id": "0e058a31-8f0f-42ac-8f91-6c88c86a21c5",
   "metadata": {},
   "outputs": [
    {
     "name": "stdout",
     "output_type": "stream",
     "text": [
      "17.582417582417584\n",
      "2.751203249621351e-05\n"
     ]
    }
   ],
   "source": [
    "print(chisquare_test_statistics)\n",
    "print(p_value)"
   ]
  },
  {
   "cell_type": "code",
   "execution_count": 50,
   "id": "d5bc6631-1ee8-44af-8848-ad300749803c",
   "metadata": {},
   "outputs": [],
   "source": [
    "significance=0.05\n",
    "dof=99\n",
    "critical_value=stat.chi2.ppf(1-significance,dof)"
   ]
  },
  {
   "cell_type": "code",
   "execution_count": 51,
   "id": "afc89a75-c729-4eeb-829b-e99a820acb15",
   "metadata": {},
   "outputs": [
    {
     "data": {
      "text/plain": [
       "123.2252214533618"
      ]
     },
     "execution_count": 51,
     "metadata": {},
     "output_type": "execute_result"
    }
   ],
   "source": [
    "critical_value"
   ]
  },
  {
   "cell_type": "code",
   "execution_count": 52,
   "id": "1ea7e312-be16-48c4-a5d7-ec5b03cea1d4",
   "metadata": {},
   "outputs": [
    {
     "name": "stdout",
     "output_type": "stream",
     "text": [
      "We fail to reject the null hypothesis\n"
     ]
    }
   ],
   "source": [
    "if chisquare_test_statistics > critical_value:\n",
    "    print(\"We reject the null hypothesis\")\n",
    "else:\n",
    "    print(\"We fail to reject the null hypothesis\")"
   ]
  },
  {
   "cell_type": "markdown",
   "id": "c590e01f-6797-454a-a1e5-b58fa25d481c",
   "metadata": {},
   "source": [
    "## Q9. A study was conducted to determine if there is an association between smoking status (smoker or non-smoker) and lung cancer diagnosis (yes or no). The results are shown in the contingency table below. Conduct a chi-square test for independence to determine if there is a significant association between smoking status and lung cancer diagnosis.\n",
    "\n",
    "### Use a significance level of 0.05."
   ]
  },
  {
   "cell_type": "code",
   "execution_count": null,
   "id": "7e0ae441-70c9-4017-8576-3d4b8573dd59",
   "metadata": {},
   "outputs": [],
   "source": [
    "\n",
    "'''      Lung Cancer: Yes      Lung Cancer: No\n",
    "\n",
    "Smoker        60                     140\n",
    "Non-smoker    30                     170\n",
    "'''"
   ]
  },
  {
   "cell_type": "code",
   "execution_count": null,
   "id": "022beca4-d55a-4495-8688-e13086fb105b",
   "metadata": {},
   "outputs": [],
   "source": [
    "### Expected table be:\n",
    "## (row_total*column_total)/table_total\n",
    "'''      Lung Cancer: Yes      Lung Cancer: No\n",
    "\n",
    "Smoker        45                     155\n",
    "Non-smoker    45                     155\n",
    "'''"
   ]
  },
  {
   "cell_type": "code",
   "execution_count": 53,
   "id": "1a4ed2b6-553d-4ff6-bd5f-1d19171fd760",
   "metadata": {},
   "outputs": [],
   "source": [
    "## So,\n",
    "Observed_data=[60,30,140,170]\n",
    "Expected_data=[45,45,155,155]"
   ]
  },
  {
   "cell_type": "code",
   "execution_count": 54,
   "id": "a186a74a-0237-401a-92cc-e65a9333609c",
   "metadata": {},
   "outputs": [],
   "source": [
    "chisquare_test_statistics,p_value=stat.chisquare(Observed_data,Expected_data)"
   ]
  },
  {
   "cell_type": "code",
   "execution_count": 55,
   "id": "105f9f5d-b4ca-44d9-9a3d-fb227d4b2d7f",
   "metadata": {},
   "outputs": [
    {
     "name": "stdout",
     "output_type": "stream",
     "text": [
      "12.903225806451612\n",
      "0.004850628276023122\n"
     ]
    }
   ],
   "source": [
    "print(chisquare_test_statistics)\n",
    "print(p_value)"
   ]
  },
  {
   "cell_type": "code",
   "execution_count": 56,
   "id": "0466b26f-a51d-40dc-bcd9-4023a927a2ae",
   "metadata": {},
   "outputs": [],
   "source": [
    "significance=0.05\n",
    "dof=(2-1)*(2-1)\n",
    "critical_value=stat.chi2.ppf(1-significance,dof)"
   ]
  },
  {
   "cell_type": "code",
   "execution_count": 58,
   "id": "88cbc6d1-6bde-49e2-87c1-3f6b8df346a5",
   "metadata": {},
   "outputs": [
    {
     "data": {
      "text/plain": [
       "3.841458820694124"
      ]
     },
     "execution_count": 58,
     "metadata": {},
     "output_type": "execute_result"
    }
   ],
   "source": [
    "critical_value"
   ]
  },
  {
   "cell_type": "code",
   "execution_count": 57,
   "id": "08560307-a1da-4292-b05c-e9f749603086",
   "metadata": {},
   "outputs": [
    {
     "name": "stdout",
     "output_type": "stream",
     "text": [
      "We reject the null hypothesis\n"
     ]
    }
   ],
   "source": [
    "if chisquare_test_statistics > critical_value:\n",
    "    print(\"We reject the null hypothesis\")\n",
    "else:\n",
    "    print(\"We fail to reject the null hypothesis\")"
   ]
  },
  {
   "cell_type": "markdown",
   "id": "a4339f4f-ecc4-489a-bb5a-9f0c03699c34",
   "metadata": {},
   "source": [
    "## Q10. A study was conducted to determine if the proportion of people who prefer milk chocolate, dark chocolate, or white chocolate is different in the U.S. versus the U.K. A random sample of 500 people from the U.S. and a random sample of 500 people from the U.K. were surveyed. The results are shown in the contingency table below. Conduct a chi-square test for independence to determine if there is a significant association between chocolate preference and country of origin."
   ]
  },
  {
   "cell_type": "code",
   "execution_count": null,
   "id": "60a07cda-4c9c-47a3-ab25-6cf22864b7a6",
   "metadata": {},
   "outputs": [],
   "source": [
    "'''         Milk Chocolate    Dark Chocolate    White Chocolate\n",
    "\n",
    "U.S. (n=500)     200                150                150\n",
    "U.K. (n=500)     225                175                100\n",
    "'''"
   ]
  },
  {
   "cell_type": "code",
   "execution_count": null,
   "id": "00ac9232-54b6-42d2-93ab-6f9a3abbd8c0",
   "metadata": {},
   "outputs": [],
   "source": [
    "### Expected table be:\n",
    "## (row_total*column_total)/table_total\n",
    "'''         Milk Chocolate    Dark Chocolate    White Chocolate\n",
    "\n",
    "U.S. (n=500)     212.5              162.5              125\n",
    "U.K. (n=500)     212.5              162.5              125\n",
    "'''"
   ]
  },
  {
   "cell_type": "code",
   "execution_count": 59,
   "id": "aabcfa12-6e53-449b-91eb-dad8bb17702c",
   "metadata": {},
   "outputs": [],
   "source": [
    "## So,\n",
    "Expected_data=[212.5,162.5,125,212.5,162.5,125]\n",
    "Observed_data=[200,225,150,175,150,100]"
   ]
  },
  {
   "cell_type": "code",
   "execution_count": 60,
   "id": "87dd7511-d42e-4e46-b9cb-05ba6c515c0c",
   "metadata": {},
   "outputs": [],
   "source": [
    "chisquare_test_statistics,p_value=stat.chisquare(Observed_data,Expected_data)"
   ]
  },
  {
   "cell_type": "code",
   "execution_count": 61,
   "id": "46e92ba9-a903-46b6-8723-01b293ca588a",
   "metadata": {},
   "outputs": [
    {
     "name": "stdout",
     "output_type": "stream",
     "text": [
      "42.35294117647059\n",
      "4.996944406049978e-08\n"
     ]
    }
   ],
   "source": [
    "print(chisquare_test_statistics)\n",
    "print(p_value)"
   ]
  },
  {
   "cell_type": "code",
   "execution_count": 62,
   "id": "cecdcbc9-aef6-476c-9d52-a351e37ad4e7",
   "metadata": {},
   "outputs": [],
   "source": [
    "significance=0.05\n",
    "dof=(2-1)*(3-1)\n",
    "critical_value=stat.chi2.ppf(1-significance,dof)"
   ]
  },
  {
   "cell_type": "code",
   "execution_count": 63,
   "id": "0f17d824-2ca6-4452-8b88-ed529dd2cb95",
   "metadata": {},
   "outputs": [
    {
     "data": {
      "text/plain": [
       "5.991464547107979"
      ]
     },
     "execution_count": 63,
     "metadata": {},
     "output_type": "execute_result"
    }
   ],
   "source": [
    "critical_value"
   ]
  },
  {
   "cell_type": "code",
   "execution_count": 64,
   "id": "0083ae27-0a11-4add-9fc6-887d9b1e764b",
   "metadata": {},
   "outputs": [
    {
     "name": "stdout",
     "output_type": "stream",
     "text": [
      "We reject the null hypothesis\n"
     ]
    }
   ],
   "source": [
    "if chisquare_test_statistics > critical_value:\n",
    "    print(\"We reject the null hypothesis\")\n",
    "else:\n",
    "    print(\"We fail to reject the null hypothesis\")"
   ]
  },
  {
   "cell_type": "markdown",
   "id": "c3aa1111-8ae2-4466-bf3f-3baae307bd35",
   "metadata": {},
   "source": [
    "## Q11. A random sample of 30 people was selected from a population with an unknown mean and standard deviation. The sample mean was found to be 72 and the sample standard deviation was found to be 10. Conduct a hypothesis test to determine if the population mean is significantly different from 70. Use a significance level of 0.05."
   ]
  },
  {
   "cell_type": "code",
   "execution_count": null,
   "id": "e916a683-1874-4371-a4ee-2ca7923c5c1f",
   "metadata": {},
   "outputs": [],
   "source": [
    "'''\n",
    "Here n=30, sample mean=72, sample sd= 10\n",
    "H0: mu=70\n",
    "H1: mu!=70\n",
    " \n",
    "So, z_calculated=1.09544\n",
    "\n",
    "since alpha=0.05 and it is a two tail test\n",
    "So, z_tabulated=1.96\n",
    "\n",
    "Now, z_tab > z_cal \n",
    "Hence, We fail to reject the null hypothesis\n",
    "'''"
   ]
  }
 ],
 "metadata": {
  "kernelspec": {
   "display_name": "Python 3 (ipykernel)",
   "language": "python",
   "name": "python3"
  },
  "language_info": {
   "codemirror_mode": {
    "name": "ipython",
    "version": 3
   },
   "file_extension": ".py",
   "mimetype": "text/x-python",
   "name": "python",
   "nbconvert_exporter": "python",
   "pygments_lexer": "ipython3",
   "version": "3.10.8"
  }
 },
 "nbformat": 4,
 "nbformat_minor": 5
}
